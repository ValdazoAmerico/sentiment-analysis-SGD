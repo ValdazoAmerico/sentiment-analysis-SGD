{
  "nbformat": 4,
  "nbformat_minor": 0,
  "metadata": {
    "colab": {
      "name": "sentiment-analysis-SGD-Tfidf.ipynb",
      "provenance": [],
      "collapsed_sections": [],
      "authorship_tag": "ABX9TyOVOupB5BcsOT27D/VrYyIg",
      "include_colab_link": true
    },
    "kernelspec": {
      "name": "python3",
      "display_name": "Python 3"
    },
    "language_info": {
      "name": "python"
    }
  },
  "cells": [
    {
      "cell_type": "markdown",
      "metadata": {
        "id": "view-in-github",
        "colab_type": "text"
      },
      "source": [
        "<a href=\"https://colab.research.google.com/github/ValdazoAmerico/sentiment-analysis-SGD/blob/main/sentiment_analysis_SGD_Tfidf.ipynb\" target=\"_parent\"><img src=\"https://colab.research.google.com/assets/colab-badge.svg\" alt=\"Open In Colab\"/></a>"
      ]
    },
    {
      "cell_type": "code",
      "metadata": {
        "id": "k1xQp9S2Fypg"
      },
      "source": [
        "import pandas as pd\n",
        "import numpy as np\n",
        "import pickle\n",
        "import sys\n",
        "import os\n",
        "import io\n",
        "import re\n",
        "from sys import path\n",
        "from sklearn.feature_extraction.text import CountVectorizer\n",
        "from sklearn.naive_bayes import MultinomialNB\n",
        "from sklearn.model_selection import train_test_split\n",
        "from sklearn.preprocessing import LabelBinarizer\n",
        "import matplotlib.pyplot as plt\n",
        "from string import punctuation, digits\n",
        "from IPython.core.display import display, HTML\n",
        "from nltk.corpus import stopwords\n",
        "from nltk.tokenize import word_tokenize\n",
        "from nltk.tokenize import RegexpTokenizer"
      ],
      "execution_count": 2,
      "outputs": []
    },
    {
      "cell_type": "code",
      "metadata": {
        "id": "u23-TecZGmQs"
      },
      "source": [
        "input_file = \"amazon_cells_labeled.txt\"\n",
        "amazon = pd.read_csv(input_file, delimiter=\"\\t\", header=None)\n",
        "amazon.columns = ['Sentence', 'Class']"
      ],
      "execution_count": 3,
      "outputs": []
    },
    {
      "cell_type": "code",
      "metadata": {
        "id": "I9vDh_sqHhE7"
      },
      "source": [
        "input_file = \"imdb_labelled.txt\"\n",
        "imdb = pd.read_csv(input_file, delimiter=\"\\t\", header=None)\n",
        "imdb.columns = ['Sentence', 'Class']"
      ],
      "execution_count": 6,
      "outputs": []
    },
    {
      "cell_type": "code",
      "metadata": {
        "id": "PvlHSyTWHhvi"
      },
      "source": [
        "input_file = \"yelp_labelled.txt\"\n",
        "yelp = pd.read_csv(input_file, delimiter=\"\\t\", header=None)\n",
        "yelp.columns = ['Sentence', 'Class']"
      ],
      "execution_count": 7,
      "outputs": []
    },
    {
      "cell_type": "code",
      "metadata": {
        "colab": {
          "base_uri": "https://localhost:8080/"
        },
        "id": "WnSErpNPHujr",
        "outputId": "9a6c0cab-14b3-443f-e7d5-8b1ba3cb0496"
      },
      "source": [
        "data = pd.DataFrame()\n",
        "data = pd.concat([amazon, yelp, imdb])\n",
        "data['index'] = data.index\n",
        "print(data)"
      ],
      "execution_count": 8,
      "outputs": [
        {
          "output_type": "stream",
          "text": [
            "                                              Sentence  Class  index\n",
            "0    So there is no way for me to plug it in here i...      0      0\n",
            "1                          Good case, Excellent value.      1      1\n",
            "2                               Great for the jawbone.      1      2\n",
            "3    Tied to charger for conversations lasting more...      0      3\n",
            "4                                    The mic is great.      1      4\n",
            "..                                                 ...    ...    ...\n",
            "743  I just got bored watching Jessice Lange take h...      0    743\n",
            "744  Unfortunately, any virtue in this film's produ...      0    744\n",
            "745                   In a word, it is embarrassing.        0    745\n",
            "746                               Exceptionally bad!        0    746\n",
            "747  All in all its an insult to one's intelligence...      0    747\n",
            "\n",
            "[2748 rows x 3 columns]\n"
          ],
          "name": "stdout"
        }
      ]
    },
    {
      "cell_type": "code",
      "metadata": {
        "id": "X1etjx0EH3ye"
      },
      "source": [
        "columns = ['index', 'Class', 'Sentence']\n",
        "df_ = pd.DataFrame(columns=columns)\n",
        "data['Sentence'] = data['Sentence'].str.lower()\n",
        "data['Sentence'] = data['Sentence'].replace('[a-zA-Z0-9-_.]+@[a-zA-Z0-9-_.]+', '', regex=True)\n",
        "data['Sentence'] = data['Sentence'].replace('((25[0-5]|2[0-4][0-9]|[01]?[0-9][0-9]?)(\\.|$)){4}', '', regex=True)\n",
        "data['Sentence'] = data['Sentence'].replace('[^\\w\\s]', '')\n",
        "data['Sentence'] = data['Sentence'].replace('\\d', '', regex=True)"
      ],
      "execution_count": 18,
      "outputs": []
    },
    {
      "cell_type": "code",
      "metadata": {
        "colab": {
          "base_uri": "https://localhost:8080/"
        },
        "id": "7e06bbBiIA0X",
        "outputId": "45c4d442-5e46-4c16-d62c-b391ba9f929d"
      },
      "source": [
        "for index, row in data.iterrows():\n",
        "  word_tokens = word_tokenize(row['Sentence'])\n",
        "  filtered_sentence = [w for w in word_tokens if not w in stopwords.words('english')]\n",
        "  df_ = df_.append({'index': row['index'], \"Class\": row['Class'], \"Sentence\": \" \".join(filtered_sentence[0:])}, ignore_index=True)\n",
        "data = df_\n",
        "print(\"data\", data)"
      ],
      "execution_count": 19,
      "outputs": [
        {
          "output_type": "stream",
          "text": [
            "data      index Class                                           Sentence\n",
            "0        0     0                  way plug us unless go converter .\n",
            "1        1     1                      good case , excellent value .\n",
            "2        2     1                                    great jawbone .\n",
            "3        3     0  tied charger conversations lasting minutes.maj...\n",
            "4        4     1                                        mic great .\n",
            "...    ...   ...                                                ...\n",
            "2743   743     0    got bored watching jessice lange take clothes !\n",
            "2744   744     0  unfortunately , virtue film 's production work...\n",
            "2745   745     0                              word , embarrassing .\n",
            "2746   746     0                                exceptionally bad !\n",
            "2747   747     0      insult one 's intelligence huge waste money .\n",
            "\n",
            "[2748 rows x 3 columns]\n"
          ],
          "name": "stdout"
        }
      ]
    },
    {
      "cell_type": "code",
      "metadata": {
        "colab": {
          "base_uri": "https://localhost:8080/"
        },
        "id": "jWdKOyBdIu-n",
        "outputId": "753be916-d7ef-4556-c73f-4e73dd7b4a0d"
      },
      "source": [
        "nltk.download('punkt')"
      ],
      "execution_count": 14,
      "outputs": [
        {
          "output_type": "stream",
          "text": [
            "[nltk_data] Downloading package punkt to /root/nltk_data...\n",
            "[nltk_data]   Unzipping tokenizers/punkt.zip.\n"
          ],
          "name": "stdout"
        },
        {
          "output_type": "execute_result",
          "data": {
            "text/plain": [
              "True"
            ]
          },
          "metadata": {
            "tags": []
          },
          "execution_count": 14
        }
      ]
    },
    {
      "cell_type": "code",
      "metadata": {
        "id": "b1KtRGQuI0qc"
      },
      "source": [
        "import nltk"
      ],
      "execution_count": 13,
      "outputs": []
    },
    {
      "cell_type": "code",
      "metadata": {
        "colab": {
          "base_uri": "https://localhost:8080/"
        },
        "id": "DuPL7HilI2p2",
        "outputId": "cc444e14-7eda-440e-a054-b7b7f6a97055"
      },
      "source": [
        "nltk.download('stopwords')"
      ],
      "execution_count": 16,
      "outputs": [
        {
          "output_type": "stream",
          "text": [
            "[nltk_data] Downloading package stopwords to /root/nltk_data...\n",
            "[nltk_data]   Unzipping corpora/stopwords.zip.\n"
          ],
          "name": "stdout"
        },
        {
          "output_type": "execute_result",
          "data": {
            "text/plain": [
              "True"
            ]
          },
          "metadata": {
            "tags": []
          },
          "execution_count": 16
        }
      ]
    },
    {
      "cell_type": "code",
      "metadata": {
        "id": "sir5T0FwI7R6"
      },
      "source": [
        "X_train, X_test, y_train, y_test = train_test_split(data['Sentence'].values.astype('U'),data['Class'].values.astype('int32'), test_size=0.10, random_state=0)\n",
        "classes = data['Class'].unique()"
      ],
      "execution_count": 22,
      "outputs": []
    },
    {
      "cell_type": "code",
      "metadata": {
        "colab": {
          "base_uri": "https://localhost:8080/"
        },
        "id": "EIK_s6K4LGFx",
        "outputId": "d9560b9e-1b67-4da4-9c7b-9b686825c753"
      },
      "source": [
        "from sklearn.metrics import confusion_matrix\n",
        "from sklearn.model_selection import cross_val_score\n",
        "from sklearn.metrics import accuracy_score\n",
        "from sklearn.neural_network import MLPClassifier\n",
        "from sklearn.feature_extraction.text import TfidfVectorizer\n",
        "from sklearn.linear_model import SGDClassifier\n",
        "\n",
        "vectorizer = TfidfVectorizer(analyzer='word', ngram_range=(1,2), max_features=50000, max_df=0.5,use_idf=True,norm='l2')\n",
        "counts = vectorizer.fit_transform(X_train)\n",
        "vocab = vectorizer.vocabulary_\n",
        "classifier = SGDClassifier(alpha=1e-05, max_iter=50,penalty='elasticnet')\n",
        "targets = y_train\n",
        "classifier = classifier.fit(counts, targets)\n",
        "example_counts = vectorizer.transform(X_test)\n",
        "predictions = classifier.predict(example_counts)\n",
        "\n",
        "\n",
        "\n",
        "from sklearn.metrics import precision_score\n",
        "from sklearn.metrics import recall_score\n",
        "from sklearn.metrics import classification_report\n",
        "\n",
        "acc = accuracy_score(y_test, predictions, normalize=True)\n",
        "hit = precision_score(y_test, predictions, average=None,labels=classes)\n",
        "capture=recall_score(y_test,predictions,average=None,labels=classes)\n",
        "print('Model accuracy:%.2f'%acc)\n",
        "print(classification_report(y_test, predictions))"
      ],
      "execution_count": 27,
      "outputs": [
        {
          "output_type": "stream",
          "text": [
            "Model accuracy:0.80\n",
            "              precision    recall  f1-score   support\n",
            "\n",
            "           0       0.77      0.86      0.82       139\n",
            "           1       0.84      0.74      0.79       136\n",
            "\n",
            "    accuracy                           0.80       275\n",
            "   macro avg       0.81      0.80      0.80       275\n",
            "weighted avg       0.81      0.80      0.80       275\n",
            "\n"
          ],
          "name": "stdout"
        }
      ]
    },
    {
      "cell_type": "code",
      "metadata": {
        "id": "iKvOLybaLKx4"
      },
      "source": [
        "import itertools\n",
        "def plot_confusion_matrix(cm, classes,\n",
        "                          normalize=False,\n",
        "                          title='Confusion matrix',\n",
        "                          cmap=plt.cm.Blues):\n",
        "\n",
        "        if normalize:\n",
        "          cm = cm.astype('float') / cm.sum(axis=1)[:, np.newaxis]\n",
        "        else:\n",
        "          print()\n",
        "        plt.imshow(cm, interpolation='nearest', cmap=cmap, aspect='auto')\n",
        "        plt.title(title)\n",
        "        plt.colorbar()\n",
        "        tick_marks = np.arange(len(classes))\n",
        "        plt.xticks(tick_marks,classes,rotation=45)\n",
        "        plt.yticks(tick_marks, classes)\n",
        "        fmt = '.2f' if normalize else 'd'\n",
        "        thresh = cm.max() / 2.\n",
        "        for i, j in itertools.product(range(cm.shape[0]), range(cm.shape[1])):\n",
        "          plt.text(j, i, format(cm[i, j], fmt),\n",
        "          horizontalalignment = \"center\",\n",
        "          color=\"white\" if cm[i, j] > thresh else \"black\")\n",
        "        plt.tight_layout()\n",
        "        plt.ylabel('True label')\n",
        "        plt.xlabel('Predicted label')\n",
        "        plt.figure(figsize=(150,100))\n"
      ],
      "execution_count": 38,
      "outputs": []
    },
    {
      "cell_type": "code",
      "metadata": {
        "colab": {
          "base_uri": "https://localhost:8080/",
          "height": 400
        },
        "id": "ZNmRinhsON1O",
        "outputId": "11e8e877-4005-4fcf-f705-e8bf3d383c7d"
      },
      "source": [
        "cnf_matrix = confusion_matrix(y_test, predictions, classes)\n",
        "np.set_printoptions(precision=2)\n",
        "class_names = range(1,classes.size+1)\n",
        "\n",
        "plt.figure()\n",
        "plot_confusion_matrix(cnf_matrix, classes=class_names, title=\"Confusion matrix, ithout normalization\")\n",
        "classInfo = pd.DataFrame(data=[])\n",
        "\n",
        "for i in range(0,classes.size):\n",
        "  classInfo = classInfo.append([[classes[i], i+1]],ignore_index=True)\n",
        "classInfo.columns=['Category','Index']\n",
        "print(classInfo)"
      ],
      "execution_count": 39,
      "outputs": [
        {
          "output_type": "stream",
          "text": [
            "\n",
            "   Category  Index\n",
            "0         0      1\n",
            "1         1      2\n"
          ],
          "name": "stdout"
        },
        {
          "output_type": "display_data",
          "data": {
            "image/png": "[encoded data removed]",
            "text/plain": [
              "<Figure size 432x288 with 2 Axes>"
            ]
          },
          "metadata": {
            "tags": [],
            "needs_background": "light"
          }
        },
        {
          "output_type": "display_data",
          "data": {
            "text/plain": [
              "<Figure size 10800x7200 with 0 Axes>"
            ]
          },
          "metadata": {
            "tags": []
          }
        }
      ]
    },
    {
      "cell_type": "code",
      "metadata": {
        "id": "pFZOFrKDaQTb"
      },
      "source": [
        ""
      ],
      "execution_count": null,
      "outputs": []
    }
  ]
}